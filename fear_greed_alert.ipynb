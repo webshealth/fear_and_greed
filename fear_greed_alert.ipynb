import requests

url = "https://api.apitube.io/v1/news/everything?api_key=api_live_zSY4VwxPC9VkZUzZtxREjM0KTDfrdyWUXWJlQKSlzIHf&per_page=1"

querystring = {"per_page=10"}

querystring = {
    "sentiment.overall.score.min": "0.7",
    "country.code":"us",
    "category.id":"medtop:04000000",
    "topic.id":"industry.crypto_news",
    "industry.id": "409",
    "sort.by": "sentiment.overall.score",
    "sort.order": "desc",
    "api_key": "api_live_zSY4VwxPC9VkZUzZtxREjM0KTDfrdyWUXWJlQKSlzIHf",
    "per_page":1
}

response = requests.request("GET", "https://api.apitube.io/v1/news/everything", params=querystring)

print(response.text)
